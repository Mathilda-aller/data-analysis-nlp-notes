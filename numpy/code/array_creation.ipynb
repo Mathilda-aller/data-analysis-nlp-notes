{
 "cells": [
  {
   "cell_type": "code",
   "execution_count": 2,
   "id": "51864784-6c69-42e9-8ba3-039414c97704",
   "metadata": {},
   "outputs": [
    {
     "name": "stdout",
     "output_type": "stream",
     "text": [
      "[1, 2, 3, 4, 5]\n",
      "[1 2 3 4 5]\n",
      "[[1 2]\n",
      " [3 4]\n",
      " [5 6]]\n",
      "(3, 2)\n",
      "[[1 2]\n",
      " [3 4]]\n",
      "(2, 2)\n",
      "[[[1 2]\n",
      "  [3 4]]\n",
      "\n",
      " [[5 6]\n",
      "  [7 8]]]\n",
      "(2, 2, 2)\n"
     ]
    }
   ],
   "source": [
    "import numpy as np\n",
    "#create a 1D array\n",
    "A = [1, 2, 3, 4, 5]\n",
    "ArrayA = np.array(A, dtype = np.int32)\n",
    "print(A)\n",
    "print(ArrayA)\n",
    "\n",
    "#create a 2D array\n",
    "B = [[1,2], [3,4], [5,6]]\n",
    "ArrayB = np.array(B, dtype = np.int32)\n",
    "print(ArrayB)\n",
    "print(ArrayB.shape)\n",
    "\n",
    "ArrayC = np.array([[1,2],\n",
    "                   [3,4]])\n",
    "print(ArrayC)\n",
    "print(ArrayC.shape)\n",
    "\n",
    "#create a 3D array\n",
    "arrayD = np.array([[[1,2],[3,4]], [[5,6],[7,8]]])#we have two 2D arrays (each representing a slice of the cube), stacked together to form the 3D array\n",
    "print(arrayD)\n",
    "print(arrayD.shape)"
   ]
  },
  {
   "cell_type": "code",
   "execution_count": 6,
   "id": "b9cf801a-d869-4ba1-b9b5-cba941bf4883",
   "metadata": {},
   "outputs": [
    {
     "name": "stdout",
     "output_type": "stream",
     "text": [
      "[[0 0 0]\n",
      " [0 0 0]]\n",
      "[[1. 1. 1. 1.]\n",
      " [1. 1. 1. 1.]\n",
      " [1. 1. 1. 1.]]\n",
      "[3 5 7 9]\n",
      "[[ 0  1  2  3]\n",
      " [ 4  5  6  7]\n",
      " [ 8  9 10 11]]\n",
      "[ 2  4  6  8 10]\n",
      "[[ 2.  4.  6.]\n",
      " [ 8. 10. 12.]]\n",
      "[[0.59303506 0.59799783 0.17487896]\n",
      " [0.2427994  0.31620556 0.79319133]]\n"
     ]
    }
   ],
   "source": [
    "#create a 0-array in any shape\n",
    "a = np.zeros((2,3), dtype = np.int32)\n",
    "print(a)\n",
    "b = np.ones((3,4))\n",
    "print(b)\n",
    "\n",
    "#create an array with specific range\n",
    "c = np.arange(3, 10, 2)\n",
    "print(c)\n",
    "d = np.arange(12).reshape((3, 4))\n",
    "print(d)\n",
    "\n",
    "#generating evenly spaced numbers over a specified interval\n",
    "e = np.linspace(2, 10, 5, dtype = np.int32)\n",
    "print(e)\n",
    "f = np.linspace(2, 12, 6).reshape((2, 3))\n",
    "print(f)\n",
    "\n",
    "#create an array with random numbers\n",
    "g = np.random.random((2,3))\n",
    "print(g)"
   ]
  },
  {
   "cell_type": "code",
   "execution_count": null,
   "id": "62f3f9da-4ca7-4735-b940-2ced668deabe",
   "metadata": {},
   "outputs": [],
   "source": []
  }
 ],
 "metadata": {
  "kernelspec": {
   "display_name": "Python 3 (ipykernel)",
   "language": "python",
   "name": "python3"
  },
  "language_info": {
   "codemirror_mode": {
    "name": "ipython",
    "version": 3
   },
   "file_extension": ".py",
   "mimetype": "text/x-python",
   "name": "python",
   "nbconvert_exporter": "python",
   "pygments_lexer": "ipython3",
   "version": "3.12.4"
  }
 },
 "nbformat": 4,
 "nbformat_minor": 5
}
