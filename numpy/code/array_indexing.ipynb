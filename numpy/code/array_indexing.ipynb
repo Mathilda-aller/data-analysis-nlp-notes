{
 "cells": [
  {
   "cell_type": "code",
   "execution_count": 21,
   "id": "5de5a451-4d95-45fc-be71-27f558d306cc",
   "metadata": {},
   "outputs": [
    {
     "name": "stdout",
     "output_type": "stream",
     "text": [
      "[[ 0  1  2  3  4  5]\n",
      " [ 6  7  8  9 10 11]\n",
      " [12 13 14 15 16 17]\n",
      " [18 19 20 21 22 23]] \n",
      "\n",
      "15 \n",
      "\n",
      "[[ 7  8]\n",
      " [13 14]\n",
      " [19 20]]\n",
      "[[ 1  3]\n",
      " [13 15]] \n",
      "\n",
      "[[False False False False False False]\n",
      " [False False False False False False]\n",
      " [False False False False  True  True]\n",
      " [ True  True  True  True  True  True]]\n",
      "[16 17 18 19 20 21 22 23] \n",
      "\n",
      "[[ 3  4  5]\n",
      " [ 9 10 11]\n",
      " [15 16 17]\n",
      " [21 22 23]]\n"
     ]
    }
   ],
   "source": [
    "#2D array indexing\n",
    "import numpy as np\n",
    "A = np.arange(24).reshape((4,6))\n",
    "print(A, '\\n')\n",
    "\n",
    "#Single element access\n",
    "print(A[2,3], '\\n')\n",
    "\n",
    "#Slice\n",
    "print(A[1:, 1:3])\n",
    "print(A[0:3:2, 1:5:2], '\\n')\n",
    "\n",
    "#Boolean indexing\n",
    "print(A > 15) #Create a boolean array to filter\n",
    "filtered_A = A[A > 15]\n",
    "print(filtered_A, '\\n')\n",
    "\n",
    "#Advanced indexing\n",
    "print(A[..., 3:])"
   ]
  },
  {
   "cell_type": "code",
   "execution_count": 22,
   "id": "dea8ae84-68f6-4f9d-bd51-88e337e587c4",
   "metadata": {},
   "outputs": [
    {
     "name": "stdout",
     "output_type": "stream",
     "text": [
      "[[[ 0  1  2]\n",
      "  [ 3  4  5]\n",
      "  [ 6  7  8]]\n",
      "\n",
      " [[ 9 10 11]\n",
      "  [12 13 14]\n",
      "  [15 16 17]]\n",
      "\n",
      " [[18 19 20]\n",
      "  [21 22 23]\n",
      "  [24 25 26]]] \n",
      "\n",
      "3 \n",
      "\n",
      "[[[ 7  8]]\n",
      "\n",
      " [[16 17]]] \n",
      "\n",
      "[[ 1  4  7]\n",
      " [10 13 16]\n",
      " [19 22 25]]\n"
     ]
    }
   ],
   "source": [
    "#3D array indexing\n",
    "B = np.arange(27).reshape(3, 3, 3)\n",
    "print(B, '\\n')\n",
    "\n",
    "#Single element access\n",
    "print(B[0, 1, 0], '\\n') #Access the element at depth 0, row 1, column 0\n",
    "\n",
    "#Slice\n",
    "print(B[:2, 2:, 1:], '\\n')\n",
    "\n",
    "#Advanced indexing\n",
    "print(B[..., 1]) #Select all elements in the second dimension (index 1)\n",
    "#'...' acts as a wildcard, representing all indices in the remaining dimensions."
   ]
  },
  {
   "cell_type": "code",
   "execution_count": null,
   "id": "a5b06e67-bdc4-4a8f-a424-6d2fdec6d8aa",
   "metadata": {},
   "outputs": [],
   "source": []
  }
 ],
 "metadata": {
  "kernelspec": {
   "display_name": "Python 3 (ipykernel)",
   "language": "python",
   "name": "python3"
  },
  "language_info": {
   "codemirror_mode": {
    "name": "ipython",
    "version": 3
   },
   "file_extension": ".py",
   "mimetype": "text/x-python",
   "name": "python",
   "nbconvert_exporter": "python",
   "pygments_lexer": "ipython3",
   "version": "3.12.4"
  }
 },
 "nbformat": 4,
 "nbformat_minor": 5
}
