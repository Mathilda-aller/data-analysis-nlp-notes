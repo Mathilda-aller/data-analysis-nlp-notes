{
 "cells": [
  {
   "cell_type": "code",
   "execution_count": 21,
   "id": "64df96e3-ab0f-4173-925f-c84c9472fcde",
   "metadata": {},
   "outputs": [
    {
     "name": "stdout",
     "output_type": "stream",
     "text": [
      "[[1 1 1]\n",
      " [2 2 2]] \n",
      "\n",
      "[[1 1 1]\n",
      " [2 2 2]] \n",
      "\n",
      "[[1]\n",
      " [1]\n",
      " [1]] \n",
      "\n",
      "[[1 1 1]]\n"
     ]
    }
   ],
   "source": [
    "# array stack\n",
    "import numpy as np\n",
    "A = np.array([1, 1, 1])\n",
    "B = np.array([2, 2, 2])\n",
    "\n",
    "C = np.vstack((A, B)) # vertical stack\n",
    "D = np.hstack((A, B)) # horizontal stack\n",
    "print(C, '\\n')\n",
    "\n",
    "E = np.stack((A, B), axis = 0) # Same as vertical stack\n",
    "print(E, '\\n')\n",
    "\n",
    "# Transpose of array\n",
    "print(A[:,np.newaxis], '\\n') # A = np.array([1, 1, 1])[;, np.newaxis]\n",
    "print(A[np.newaxis,:])\n",
    "# Transpose of matrix: print(MatrixA.T)"
   ]
  },
  {
   "cell_type": "code",
   "execution_count": 18,
   "id": "c8f15e68-c646-4b38-ba87-c1c82517b76f",
   "metadata": {},
   "outputs": [
    {
     "name": "stdout",
     "output_type": "stream",
     "text": [
      "[[ 0  1  2  3]\n",
      " [ 4  5  6  7]\n",
      " [ 8  9 10 11]] \n",
      "\n",
      "[array([[0, 1],\n",
      "       [4, 5],\n",
      "       [8, 9]]), array([[ 2,  3],\n",
      "       [ 6,  7],\n",
      "       [10, 11]])]\n",
      "[array([[0, 1, 2, 3]]), array([[4, 5, 6, 7]]), array([[ 8,  9, 10, 11]])]\n"
     ]
    }
   ],
   "source": [
    "# array split\n",
    "A = np.arange(12).reshape((3, 4))\n",
    "print(A, '\\n')\n",
    "\n",
    "print(np.split(A, 2, axis = 1))\n",
    "print(np.split(A, 3, axis = 0))\n",
    "# Array split must be an equal division"
   ]
  },
  {
   "cell_type": "code",
   "execution_count": 31,
   "id": "172f842a-ab8c-4aa0-a105-e99a9cff53a4",
   "metadata": {},
   "outputs": [
    {
     "name": "stdout",
     "output_type": "stream",
     "text": [
      "[1 3 6 7] \n",
      "\n",
      "[1 3 5 7] \n",
      "\n",
      "[2 4 5 8] \n",
      "\n",
      "[2 4 6 8]\n",
      "[2 4 5 8]\n"
     ]
    }
   ],
   "source": [
    "A = np.array([1, 3, 6, 7])\n",
    "B = A\n",
    "print(B, '\\n')\n",
    "A[2] = 5\n",
    "print(B, '\\n')\n",
    "\n",
    "# Deep copy\n",
    "C = np.array([2, 4, 5, 8])\n",
    "D = C.copy() # In this way, D will get C's value but won't associated with C\n",
    "print(D, '\\n')\n",
    "C[2] = 6\n",
    "print(C)\n",
    "print(D)"
   ]
  },
  {
   "cell_type": "code",
   "execution_count": null,
   "id": "4a4d2839-0dd4-46f3-a10b-e9dda68eca0f",
   "metadata": {},
   "outputs": [],
   "source": []
  }
 ],
 "metadata": {
  "kernelspec": {
   "display_name": "Python 3 (ipykernel)",
   "language": "python",
   "name": "python3"
  },
  "language_info": {
   "codemirror_mode": {
    "name": "ipython",
    "version": 3
   },
   "file_extension": ".py",
   "mimetype": "text/x-python",
   "name": "python",
   "nbconvert_exporter": "python",
   "pygments_lexer": "ipython3",
   "version": "3.12.4"
  }
 },
 "nbformat": 4,
 "nbformat_minor": 5
}
