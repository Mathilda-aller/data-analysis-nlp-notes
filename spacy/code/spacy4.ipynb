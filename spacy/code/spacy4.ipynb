{
 "cells": [
  {
   "cell_type": "code",
   "execution_count": 2,
   "id": "ccc50ecd-415b-451a-89ac-b5d915cfd5d5",
   "metadata": {},
   "outputs": [],
   "source": [
    "import spacy\n",
    "from spacy.matcher import Matcher"
   ]
  },
  {
   "cell_type": "code",
   "execution_count": 3,
   "id": "d83ca457-8ea4-4e4d-a3c9-9f29848a1b8e",
   "metadata": {},
   "outputs": [],
   "source": [
    "nlp = spacy.load('en_core_web_sm')"
   ]
  },
  {
   "cell_type": "code",
   "execution_count": 8,
   "id": "5d27e9be-cb52-46f6-8e31-ece36db07e61",
   "metadata": {},
   "outputs": [
    {
     "name": "stdout",
     "output_type": "stream",
     "text": [
      "EMAIL_ADDRESS\n"
     ]
    }
   ],
   "source": [
    "# A boring quick example\n",
    "matcher = Matcher(nlp.vocab)\n",
    "pattern = [{'LIKE_EMAIL' : True}]\n",
    "matcher.add('EMAIL_ADDRESS', [pattern])\n",
    "\n",
    "doc = nlp('This is my email address: powertilda9@gmail.com')\n",
    "matches = matcher(doc)\n",
    "\n",
    "print(nlp.vocab[matches[0][0]].text)"
   ]
  },
  {
   "cell_type": "code",
   "execution_count": 12,
   "id": "f1e4efa1-6849-46b8-9c0c-a81d72cab283",
   "metadata": {},
   "outputs": [
    {
     "name": "stdout",
     "output_type": "stream",
     "text": [
      "Matched: Hi Start 0 Stop 1\n",
      "Matched: good morning Start 8 Stop 10\n",
      "Matched: hey Start 13 Stop 14\n",
      "Matched: Good night Start 15 Stop 17\n"
     ]
    }
   ],
   "source": [
    "# Mini example\n",
    "matcher = Matcher(nlp.vocab)\n",
    "pattern1 = [{'LOWER': {'IN': ['hi','hey','hello']}}]\n",
    "pattern2 = [{'LOWER': 'good'}, {'LOWER': {'IN': ['morning','evening','night']}}]\n",
    "matcher.add('greeting', [pattern1, pattern2])\n",
    "\n",
    "text = \"Hi there! I just wanted to say good morning. Also, hey! Good night and sleep well!\"\n",
    "doc = nlp(text)\n",
    "\n",
    "matches = matcher(doc)\n",
    "#print(matches)\n",
    "\n",
    "for match_id, start, stop in matches:\n",
    "    span = doc[start: stop]\n",
    "    print('Matched:', span.text, 'Start', start, 'Stop', stop)"
   ]
  },
  {
   "cell_type": "code",
   "execution_count": 23,
   "id": "8b2345bf-8600-4b60-bc84-d215b689cf8c",
   "metadata": {},
   "outputs": [
    {
     "name": "stdout",
     "output_type": "stream",
     "text": [
      "2\n",
      "(16675142863055901820, 3, 8) ' she said. '\n",
      "(16675142863055901820, 10, 16) ' Then he whispered, '\n"
     ]
    }
   ],
   "source": [
    "# Find quotes\n",
    "matcher = Matcher(nlp.vocab)\n",
    "pattern = [{'ORTH': \"'\"},\n",
    "          {'IS_ALPHA': True, 'OP': '+'},\n",
    "          {'IS_PUNCT': True, 'OP': '*'},\n",
    "          {'ORTH': \"'\"}]\n",
    "matcher.add('Quotes', [pattern], greedy = 'LONGEST')\n",
    "\n",
    "text = \"'Wow!' she said. 'Amazing.' Then he whispered, 'Let's go.'\"\n",
    "doc = nlp(text)\n",
    "\n",
    "matches = matcher(doc)\n",
    "matches.sort(key = lambda x: x[1])\n",
    "print(len(matches))\n",
    "for match in matches:\n",
    "    span = doc[match[1]: match[2]]\n",
    "    print(match, span.text)"
   ]
  },
  {
   "cell_type": "code",
   "execution_count": null,
   "id": "9563009c-da1a-4aac-a631-285740a4ce15",
   "metadata": {},
   "outputs": [],
   "source": []
  }
 ],
 "metadata": {
  "kernelspec": {
   "display_name": "Python (nlp_env)",
   "language": "python",
   "name": "nlp_env"
  },
  "language_info": {
   "codemirror_mode": {
    "name": "ipython",
    "version": 3
   },
   "file_extension": ".py",
   "mimetype": "text/x-python",
   "name": "python",
   "nbconvert_exporter": "python",
   "pygments_lexer": "ipython3",
   "version": "3.8.20"
  }
 },
 "nbformat": 4,
 "nbformat_minor": 5
}
