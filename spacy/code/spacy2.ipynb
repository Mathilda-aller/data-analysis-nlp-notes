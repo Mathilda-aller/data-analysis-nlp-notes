{
 "cells": [
  {
   "cell_type": "code",
   "execution_count": 1,
   "id": "7a4360a7-3f18-405b-8f1f-4ef2ae571e6d",
   "metadata": {},
   "outputs": [],
   "source": [
    "import spacy"
   ]
  },
  {
   "cell_type": "code",
   "execution_count": 3,
   "id": "7bdee051-a791-4375-9f51-4bca8fed0343",
   "metadata": {},
   "outputs": [],
   "source": [
    "nlp = spacy.load('en_core_web_md')"
   ]
  },
  {
   "cell_type": "code",
   "execution_count": 6,
   "id": "b8cfb403-a2d7-451b-8403-19afc3a9d0dd",
   "metadata": {},
   "outputs": [],
   "source": [
    "with open ('wiki_arsenal.txt', 'r', encoding = 'utf-8') as f:\n",
    "    text = f.read()"
   ]
  },
  {
   "cell_type": "code",
   "execution_count": 7,
   "id": "748adac6-8454-427c-8093-a8e85edcda6e",
   "metadata": {},
   "outputs": [
    {
     "name": "stdout",
     "output_type": "stream",
     "text": [
      "The Arsenal Football Club, commonly known as simply Arsenal, is a professional football club based in Islington, North London, England.\n"
     ]
    }
   ],
   "source": [
    "doc = nlp(text)\n",
    "sentence1 = list(doc.sents)[0]\n",
    "print(sentence1)"
   ]
  },
  {
   "cell_type": "code",
   "execution_count": 10,
   "id": "ad64323b-63a6-4659-853d-51b5a37655d1",
   "metadata": {},
   "outputs": [
    {
     "name": "stdout",
     "output_type": "stream",
     "text": [
      "['chocolate-', 'marshmallowy', 'Chocolaterie', 'Scrunchies', 'sweetspire', 'cocoas', 'berrypecker', 'crabcakes', 'APHC', 'peanutbutter']\n"
     ]
    }
   ],
   "source": [
    "import numpy as np\n",
    "your_word = \"chocolate\"\n",
    "\n",
    "ms = nlp.vocab.vectors.most_similar(\n",
    "    np.asarray([nlp.vocab.vectors[nlp.vocab.strings[your_word]]]), n=10)\n",
    "words = [nlp.vocab.strings[w] for w in ms[0][0]]\n",
    "distances = ms[2]\n",
    "print(words)"
   ]
  },
  {
   "cell_type": "code",
   "execution_count": 11,
   "id": "171519ab-16ac-437c-8817-a839e61c8999",
   "metadata": {},
   "outputs": [],
   "source": [
    "doc1 = nlp('Mathilda dreamed to be a scientist.')\n",
    "doc2 = nlp('But she majors in French now.')"
   ]
  },
  {
   "cell_type": "code",
   "execution_count": 12,
   "id": "23c69f72-64d9-4d1b-9dee-52c206abba18",
   "metadata": {},
   "outputs": [
    {
     "name": "stdout",
     "output_type": "stream",
     "text": [
      "Mathilda dreamed to be a scientist. <-> But she majors in French now. 0.614840624245971\n"
     ]
    }
   ],
   "source": [
    "print(doc1, '<->', doc2, doc1.similarity(doc2))"
   ]
  },
  {
   "cell_type": "code",
   "execution_count": 13,
   "id": "d5a886ff-c5e8-4c25-8e40-47add2ad5f71",
   "metadata": {},
   "outputs": [],
   "source": [
    "doc3 = nlp('Sacha loves eating rice pudding.')"
   ]
  },
  {
   "cell_type": "code",
   "execution_count": 14,
   "id": "27daa526-c334-4ba3-b95f-4d71b90d0e63",
   "metadata": {},
   "outputs": [
    {
     "name": "stdout",
     "output_type": "stream",
     "text": [
      "Mathilda dreamed to be a scientist. <-> Sacha loves eating rice pudding. 0.4256774991197967\n"
     ]
    }
   ],
   "source": [
    "print(doc1, '<->', doc3, doc1.similarity(doc3))"
   ]
  },
  {
   "cell_type": "code",
   "execution_count": 15,
   "id": "6846c7df-1895-4e9b-991d-5ad04b660ba8",
   "metadata": {},
   "outputs": [],
   "source": [
    "doc4 = nlp('I enjoy strawberries.')\n",
    "doc5 = nlp('I enjoy blueberries.')"
   ]
  },
  {
   "cell_type": "code",
   "execution_count": 16,
   "id": "b1e1bf82-fcf4-4714-bc7c-fa8ebde14236",
   "metadata": {},
   "outputs": [
    {
     "name": "stdout",
     "output_type": "stream",
     "text": [
      "I enjoy strawberries. <-> I enjoy blueberries. 0.9999999820422684\n"
     ]
    }
   ],
   "source": [
    "print(doc4, '<->', doc5, doc4.similarity(doc5))"
   ]
  },
  {
   "cell_type": "code",
   "execution_count": 17,
   "id": "82b24246-a95b-4e62-91a6-e2b13c1d0989",
   "metadata": {},
   "outputs": [],
   "source": [
    "doc6 = nlp('I enjoy chocolate.')"
   ]
  },
  {
   "cell_type": "code",
   "execution_count": 18,
   "id": "a6842b66-2952-4d62-b826-959aaf5ecfcb",
   "metadata": {},
   "outputs": [
    {
     "name": "stdout",
     "output_type": "stream",
     "text": [
      "I enjoy strawberries. <-> I enjoy chocolate. 0.9883710371393667\n"
     ]
    }
   ],
   "source": [
    "print(doc4, '<->', doc6, doc4.similarity(doc6))"
   ]
  },
  {
   "cell_type": "code",
   "execution_count": 19,
   "id": "6518434e-f869-4c8d-a7df-d83a691caf0e",
   "metadata": {},
   "outputs": [
    {
     "name": "stdout",
     "output_type": "stream",
     "text": [
      "scientist <-> French 0.21074841916561127\n"
     ]
    }
   ],
   "source": [
    "scientist = doc1[5]\n",
    "French = doc2[4]\n",
    "\n",
    "print(scientist, '<->', French, scientist.similarity(French))"
   ]
  },
  {
   "cell_type": "code",
   "execution_count": 21,
   "id": "8d3fbc43-7fd8-4d8d-8ffd-0b54b361985d",
   "metadata": {},
   "outputs": [],
   "source": [
    "nlp1 = spacy.blank('en')"
   ]
  },
  {
   "cell_type": "code",
   "execution_count": 22,
   "id": "c6761d42-2e06-40dc-92a3-a20ea8edc8a5",
   "metadata": {},
   "outputs": [
    {
     "data": {
      "text/plain": [
       "<spacy.pipeline.sentencizer.Sentencizer at 0x1d4ad87a340>"
      ]
     },
     "execution_count": 22,
     "metadata": {},
     "output_type": "execute_result"
    }
   ],
   "source": [
    "nlp1.add_pipe('sentencizer')"
   ]
  },
  {
   "cell_type": "code",
   "execution_count": 24,
   "id": "984e7f43-ce7a-44e6-a451-bdfe2e17c570",
   "metadata": {},
   "outputs": [
    {
     "data": {
      "text/plain": [
       "{'summary': {'sentencizer': {'assigns': ['token.is_sent_start', 'doc.sents'],\n",
       "   'requires': [],\n",
       "   'scores': ['sents_f', 'sents_p', 'sents_r'],\n",
       "   'retokenizes': False}},\n",
       " 'problems': {'sentencizer': []},\n",
       " 'attrs': {'token.is_sent_start': {'assigns': ['sentencizer'], 'requires': []},\n",
       "  'doc.sents': {'assigns': ['sentencizer'], 'requires': []}}}"
      ]
     },
     "execution_count": 24,
     "metadata": {},
     "output_type": "execute_result"
    }
   ],
   "source": [
    "nlp1.analyze_pipes()"
   ]
  },
  {
   "cell_type": "code",
   "execution_count": 26,
   "id": "a48d7ffa-9ca8-4301-961b-03b465aaa0d0",
   "metadata": {},
   "outputs": [
    {
     "data": {
      "text/plain": [
       "{'summary': {'tok2vec': {'assigns': ['doc.tensor'],\n",
       "   'requires': [],\n",
       "   'scores': [],\n",
       "   'retokenizes': False},\n",
       "  'tagger': {'assigns': ['token.tag'],\n",
       "   'requires': [],\n",
       "   'scores': ['tag_acc'],\n",
       "   'retokenizes': False},\n",
       "  'parser': {'assigns': ['token.dep',\n",
       "    'token.head',\n",
       "    'token.is_sent_start',\n",
       "    'doc.sents'],\n",
       "   'requires': [],\n",
       "   'scores': ['dep_uas',\n",
       "    'dep_las',\n",
       "    'dep_las_per_type',\n",
       "    'sents_p',\n",
       "    'sents_r',\n",
       "    'sents_f'],\n",
       "   'retokenizes': False},\n",
       "  'attribute_ruler': {'assigns': [],\n",
       "   'requires': [],\n",
       "   'scores': [],\n",
       "   'retokenizes': False},\n",
       "  'lemmatizer': {'assigns': ['token.lemma'],\n",
       "   'requires': [],\n",
       "   'scores': ['lemma_acc'],\n",
       "   'retokenizes': False},\n",
       "  'ner': {'assigns': ['doc.ents', 'token.ent_iob', 'token.ent_type'],\n",
       "   'requires': [],\n",
       "   'scores': ['ents_f', 'ents_p', 'ents_r', 'ents_per_type'],\n",
       "   'retokenizes': False}},\n",
       " 'problems': {'tok2vec': [],\n",
       "  'tagger': [],\n",
       "  'parser': [],\n",
       "  'attribute_ruler': [],\n",
       "  'lemmatizer': [],\n",
       "  'ner': []},\n",
       " 'attrs': {'token.ent_type': {'assigns': ['ner'], 'requires': []},\n",
       "  'token.is_sent_start': {'assigns': ['parser'], 'requires': []},\n",
       "  'token.tag': {'assigns': ['tagger'], 'requires': []},\n",
       "  'token.dep': {'assigns': ['parser'], 'requires': []},\n",
       "  'doc.sents': {'assigns': ['parser'], 'requires': []},\n",
       "  'doc.tensor': {'assigns': ['tok2vec'], 'requires': []},\n",
       "  'doc.ents': {'assigns': ['ner'], 'requires': []},\n",
       "  'token.head': {'assigns': ['parser'], 'requires': []},\n",
       "  'token.lemma': {'assigns': ['lemmatizer'], 'requires': []},\n",
       "  'token.ent_iob': {'assigns': ['ner'], 'requires': []}}}"
      ]
     },
     "execution_count": 26,
     "metadata": {},
     "output_type": "execute_result"
    }
   ],
   "source": [
    "nlp.analyze_pipes()"
   ]
  },
  {
   "cell_type": "code",
   "execution_count": null,
   "id": "7a8e16a2-ba34-46be-b468-0c7096917047",
   "metadata": {},
   "outputs": [],
   "source": []
  }
 ],
 "metadata": {
  "kernelspec": {
   "display_name": "Python (nlp_env)",
   "language": "python",
   "name": "nlp_env"
  },
  "language_info": {
   "codemirror_mode": {
    "name": "ipython",
    "version": 3
   },
   "file_extension": ".py",
   "mimetype": "text/x-python",
   "name": "python",
   "nbconvert_exporter": "python",
   "pygments_lexer": "ipython3",
   "version": "3.8.20"
  }
 },
 "nbformat": 4,
 "nbformat_minor": 5
}
