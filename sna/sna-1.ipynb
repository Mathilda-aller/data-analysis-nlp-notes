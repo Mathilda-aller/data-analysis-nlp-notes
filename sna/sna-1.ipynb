{
 "cells": [
  {
   "cell_type": "code",
   "execution_count": 1,
   "id": "5a878749-c3d5-4de7-b857-65aaca5b8c49",
   "metadata": {},
   "outputs": [],
   "source": [
    "import networkx as nx "
   ]
  },
  {
   "cell_type": "code",
   "execution_count": 2,
   "id": "a0b92414-9cce-4056-8997-a85bae0cb7a8",
   "metadata": {},
   "outputs": [],
   "source": [
    "G = nx.Graph()"
   ]
  },
  {
   "cell_type": "code",
   "execution_count": 3,
   "id": "f1164c31-4fb0-4899-96c5-db2316ea00f3",
   "metadata": {},
   "outputs": [],
   "source": [
    "G.add_node('Mathilda')\n",
    "G.add_node('Sacha')"
   ]
  },
  {
   "cell_type": "code",
   "execution_count": 9,
   "id": "1a832003-1f3b-44f9-91c9-ccdc7c19bccd",
   "metadata": {},
   "outputs": [
    {
     "name": "stdout",
     "output_type": "stream",
     "text": [
      "['Mathilda', 'Sacha']\n",
      "['Mathilda', 'Sacha']\n",
      "Mathilda\n",
      "Sacha\n"
     ]
    }
   ],
   "source": [
    "print(list(G))  # We cannot print off a graph in this module because we need another module to process graph data and render it as an image.(That's where for matplotlib.)\n",
    "    \n",
    "print(nx.nodes(G))  # Exactly the same output.\n",
    "\n",
    "for i in G:\n",
    "    print(i)"
   ]
  },
  {
   "cell_type": "code",
   "execution_count": 7,
   "id": "54c0ca2c-eba8-4724-a9a2-0ab51f414fa7",
   "metadata": {},
   "outputs": [
    {
     "name": "stdout",
     "output_type": "stream",
     "text": [
      "2\n",
      "2\n"
     ]
    }
   ],
   "source": [
    "print(len(G))\n",
    "\n",
    "print(nx.number_of_nodes(G))"
   ]
  },
  {
   "cell_type": "code",
   "execution_count": 11,
   "id": "d124631e-87ca-4ee1-8771-5dbc05ca07fd",
   "metadata": {},
   "outputs": [
    {
     "name": "stdout",
     "output_type": "stream",
     "text": [
      "['Mathilda', 'Sacha', 'Sacha2']\n"
     ]
    }
   ],
   "source": [
    "# Network X will not allow for two characters that have the same name exist in the same list. So you have to make it clear.\n",
    "G.add_node('Sacha2')\n",
    "print(nx.nodes(G))"
   ]
  },
  {
   "cell_type": "code",
   "execution_count": null,
   "id": "1ec7e9fc-2a90-4f3d-86e8-dec04d1dfaba",
   "metadata": {},
   "outputs": [],
   "source": []
  }
 ],
 "metadata": {
  "kernelspec": {
   "display_name": "Python (sna-env)",
   "language": "python",
   "name": "sna-env"
  },
  "language_info": {
   "codemirror_mode": {
    "name": "ipython",
    "version": 3
   },
   "file_extension": ".py",
   "mimetype": "text/x-python",
   "name": "python",
   "nbconvert_exporter": "python",
   "pygments_lexer": "ipython3",
   "version": "3.10.16"
  }
 },
 "nbformat": 4,
 "nbformat_minor": 5
}
